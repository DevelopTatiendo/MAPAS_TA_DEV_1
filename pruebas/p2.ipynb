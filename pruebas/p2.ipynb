{
 "cells": [
  {
   "cell_type": "code",
   "execution_count": 1,
   "id": "5ee65757",
   "metadata": {},
   "outputs": [],
   "source": [
    "import pandas as pd\n",
    "from dotenv import load_dotenv\n",
    "import os\n",
    "import mysql.connector"
   ]
  },
  {
   "cell_type": "code",
   "execution_count": null,
   "id": "0546e780",
   "metadata": {},
   "outputs": [],
   "source": [
    "def consultar_muestras_db(centroope, fecha_inicio, fecha_fin):\n",
    "    \"\"\"\n",
    "    Consulta la base de datos para obtener los eventos de muestras filtrados por centroope y fechas.\n",
    "    Retorna un DataFrame.\n",
    "    \"\"\"\n",
    "    conexion = mysql.connector.connect(\n",
    "        host=DB_HOST,\n",
    "        user=DB_USER,\n",
    "        password=DB_PASSWORD\n",
    "    )\n",
    "    \n",
    "    query = f\"\"\"\n",
    "    SELECT \n",
    "        e.idEvento, \n",
    "        e.fecha_evento, \n",
    "        e.id_evento_tipo, \n",
    "        e.coordenada_longitud, \n",
    "        e.coordenada_latitud, \n",
    "        e.medio_contacto, \n",
    "        e.tipo_evento, \n",
    "        e.id_categoria_evento, \n",
    "        bar.id AS id_barrio, \n",
    "        bar.barrio, \n",
    "        bar.id_estrato\n",
    "    FROM \n",
    "        fullclean_contactos.vwEventos e\n",
    "    LEFT JOIN \n",
    "        fullclean_contactos.vwContactos con ON e.id_contacto = con.id\n",
    "    LEFT JOIN \n",
    "        fullclean_contactos.barrios bar ON bar.id = con.id_barrio\n",
    "    LEFT JOIN \n",
    "        fullclean_contactos.ciudades ciu ON ciu.id = con.id_ciudad\n",
    "    WHERE \n",
    "        e.fecha_evento BETWEEN '{fecha_inicio}' AND '{fecha_fin}'\n",
    "        AND e.id_evento_tipo = 15\n",
    "        AND ciu.id_centroope = {centroope}\n",
    "        AND coordenada_longitud <> 0 \n",
    "        AND coordenada_latitud <> 0;\n",
    "    \"\"\"\n",
    "    df = pd.read_sql(query, conexion)\n",
    "    conexion.close()\n",
    "    return df"
   ]
  },
  {
   "cell_type": "code",
   "execution_count": null,
   "id": "43e2e711",
   "metadata": {},
   "outputs": [],
   "source": []
  }
 ],
 "metadata": {
  "kernelspec": {
   "display_name": ".venv",
   "language": "python",
   "name": "python3"
  },
  "language_info": {
   "codemirror_mode": {
    "name": "ipython",
    "version": 3
   },
   "file_extension": ".py",
   "mimetype": "text/x-python",
   "name": "python",
   "nbconvert_exporter": "python",
   "pygments_lexer": "ipython3",
   "version": "3.11.9"
  }
 },
 "nbformat": 4,
 "nbformat_minor": 5
}
